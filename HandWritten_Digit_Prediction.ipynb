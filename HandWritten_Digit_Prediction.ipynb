{
 "cells": [
  {
   "cell_type": "code",
   "execution_count": 1,
   "metadata": {},
   "outputs": [],
   "source": [
    "import numpy as np\n",
    "from sklearn import datasets\n",
    "import matplotlib.pyplot as plt\n",
    "from matplotlib import style \n",
    "style.use('ggplot')\n",
    "from sklearn.preprocessing import scale"
   ]
  },
  {
   "cell_type": "code",
   "execution_count": 68,
   "metadata": {},
   "outputs": [],
   "source": [
    "from operator import itemgetter\n",
    "def calc(arr, brr):\n",
    "    return (sum((arr-brr)**2))**0.5\n",
    "\n",
    "def Solution(data, target, target_, k):\n",
    "    distance = []\n",
    "    for i in range(len(target)):\n",
    "        distance.append([calc(data[i], target_), target[i]])\n",
    "    predictions = [i[1] for i in sorted(distance, key = itemgetter(0))[:k]]\n",
    "    #print(distance)\n",
    "    res = dict()\n",
    "    for i in predictions:\n",
    "        res[i] = 0\n",
    "    for i in predictions:\n",
    "        res[i] = res[i]+1\n",
    "    result = -1\n",
    "    mx = 0\n",
    "    for i in res:\n",
    "        if(res[i] > mx):\n",
    "            result = i\n",
    "            mx = res[i]\n",
    "    \n",
    "    return result\n",
    "\n",
    "def Score(data, target, x_test, y_test):\n",
    "    length = len(y_test)\n",
    "    count = 0;\n",
    "    for idx in range(len(x_test)):\n",
    "        if(Solution(data, target, x_test[idx], 5) == y_test[idx]):\n",
    "            count+=1\n",
    "    return count/length\n",
    "    "
   ]
  },
  {
   "cell_type": "code",
   "execution_count": 50,
   "metadata": {},
   "outputs": [],
   "source": [
    "def train_test_data(data, target, test_size = 0.33):\n",
    "    test_length = 0.33 *(len(data))\n",
    "    test = []\n",
    "    train = []\n",
    "    count = 0\n",
    "    for feature in zip(data, target):\n",
    "        if(count < int(test_length)):\n",
    "            test.append(feature)\n",
    "        else:\n",
    "            train.append(feature)\n",
    "        count+=1\n",
    "    return train, test\n",
    "        \n",
    "    "
   ]
  },
  {
   "cell_type": "code",
   "execution_count": 51,
   "metadata": {},
   "outputs": [
    {
     "data": {
      "text/plain": [
       "(dict_keys(['data', 'target', 'frame', 'feature_names', 'target_names', 'images', 'DESCR']),\n",
       " (1797, 64),\n",
       " (1797,))"
      ]
     },
     "execution_count": 51,
     "metadata": {},
     "output_type": "execute_result"
    }
   ],
   "source": [
    "digits_data = datasets.load_digits()\n",
    "data = digits_data.data\n",
    "target =  digits_data.target\n",
    "digits_data.keys(),data.shape, target.shape"
   ]
  },
  {
   "cell_type": "code",
   "execution_count": 61,
   "metadata": {},
   "outputs": [
    {
     "name": "stdout",
     "output_type": "stream",
     "text": [
      "\n"
     ]
    }
   ],
   "source": [
    "train_data, test_data = train_test_data(data, target)\n",
    "x_train, y_train = list(zip(*train_data))\n",
    "x_test, y_test = list(zip(*test_data))\n",
    "list(x_train), list(y_train), list(x_test), list(y_test)\n",
    "print()"
   ]
  },
  {
   "cell_type": "code",
   "execution_count": 69,
   "metadata": {},
   "outputs": [
    {
     "data": {
      "text/plain": [
       "0.9932546374367622"
      ]
     },
     "execution_count": 69,
     "metadata": {},
     "output_type": "execute_result"
    }
   ],
   "source": [
    "Score(data, target, x_test, y_test)"
   ]
  },
  {
   "cell_type": "code",
   "execution_count": null,
   "metadata": {},
   "outputs": [],
   "source": [
    "# i have achive 99% accuracy on sklean digits data_set"
   ]
  },
  {
   "cell_type": "code",
   "execution_count": 193,
   "metadata": {},
   "outputs": [
    {
     "name": "stdout",
     "output_type": "stream",
     "text": [
      "(1727, 1080, 3)\n"
     ]
    },
    {
     "data": {
      "text/plain": [
       "<matplotlib.image.AxesImage at 0x7fede55d69a0>"
      ]
     },
     "execution_count": 193,
     "metadata": {},
     "output_type": "execute_result"
    },
    {
     "data": {
      "image/png": "[encoded data removed]",
      "text/plain": [
       "<Figure size 432x288 with 1 Axes>"
      ]
     },
     "metadata": {},
     "output_type": "display_data"
    }
   ],
   "source": [
    "import cv2\n",
    "img = cv2.imread('/home/rpsingh/Desktop/Machine_learning/two.jpg')\n",
    "print(img.shape)\n",
    "img = img[250: 1400 , 200: 750]\n",
    "plt.imshow(img)"
   ]
  },
  {
   "cell_type": "code",
   "execution_count": 194,
   "metadata": {},
   "outputs": [
    {
     "data": {
      "text/plain": [
       "<matplotlib.image.AxesImage at 0x7fede5527f40>"
      ]
     },
     "execution_count": 194,
     "metadata": {},
     "output_type": "execute_result"
    },
    {
     "data": {
      "image/png": "[encoded data removed]",
      "text/plain": [
       "<Figure size 432x288 with 1 Axes>"
      ]
     },
     "metadata": {},
     "output_type": "display_data"
    }
   ],
   "source": [
    "img = cv2.cvtColor(img, cv2.COLOR_BGR2GRAY)\n",
    "img = cv2.resize(img, (8, 8))\n",
    "img = (img/255)*15\n",
    "plt.imshow(img)"
   ]
  },
  {
   "cell_type": "code",
   "execution_count": 195,
   "metadata": {},
   "outputs": [],
   "source": [
    "img = img.reshape(1, -1)\n"
   ]
  },
  {
   "cell_type": "code",
   "execution_count": 196,
   "metadata": {},
   "outputs": [
    {
     "data": {
      "text/plain": [
       "((64,), (64,))"
      ]
     },
     "execution_count": 196,
     "metadata": {},
     "output_type": "execute_result"
    }
   ],
   "source": [
    "data[0].shape, img[0].shape"
   ]
  },
  {
   "cell_type": "code",
   "execution_count": 197,
   "metadata": {},
   "outputs": [
    {
     "data": {
      "text/plain": [
       "2"
      ]
     },
     "execution_count": 197,
     "metadata": {},
     "output_type": "execute_result"
    }
   ],
   "source": [
    "result = Solution(data, target, img[0], 5)\n",
    "result"
   ]
  },
  {
   "cell_type": "code",
   "execution_count": null,
   "metadata": {},
   "outputs": [],
   "source": [
    "#it predict the handwritten digit 2 correctly"
   ]
  }
 ],
 "metadata": {
  "kernelspec": {
   "display_name": "Python 3",
   "language": "python",
   "name": "python3"
  },
  "language_info": {
   "codemirror_mode": {
    "name": "ipython",
    "version": 3
   },
   "file_extension": ".py",
   "mimetype": "text/x-python",
   "name": "python",
   "nbconvert_exporter": "python",
   "pygments_lexer": "ipython3",
   "version": "3.8.6"
  }
 },
 "nbformat": 4,
 "nbformat_minor": 4
}
